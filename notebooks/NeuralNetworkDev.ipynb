{
 "cells": [
  {
   "cell_type": "code",
   "execution_count": 2,
   "metadata": {},
   "outputs": [],
   "source": [
    "# Carregando dados\n",
    "import scipy.io as sio\n",
    "import numpy as np\n",
    "cpString = 'CP3'\n",
    "\n",
    "data_contents = sio.loadmat('../Data/dados' + cpString + '.mat')\n",
    "\n",
    "inputMatrix = data_contents['inputMatrix'].T\n",
    "fieldNames = data_contents['fieldNames']\n",
    "freqPower = data_contents['power']\n",
    "normalizedfreqPower = data_contents['normalizedPower']\n",
    "\n",
    "feature_labels = [fieldNames[j][0][0] for j in range (fieldNames.size)]\n",
    "\n",
    "\n",
    "target_file = sio.loadmat('../Data/target' + cpString + '.mat')\n",
    "target = target_file['target']\n",
    "target = np.argmax(target,axis=0)\n",
    "outputs = target\n",
    "\n",
    "cat_outputs = -np.ones([outputs.shape[0],len(np.unique(outputs))])\n",
    "for i,j in enumerate(outputs):\n",
    "    cat_outputs[i,j] = 1\n",
    "    \n",
    "    \n",
    "comp_data = sio.loadmat('../Data/complementaryData' + cpString + '.mat')\n",
    "channel = comp_data['channel']\n",
    "triggerTime = comp_data['triggerTime'].T\n",
    "\n",
    "class_labels = ['NP', 'SP', 'UP']"
   ]
  },
  {
   "cell_type": "code",
   "execution_count": 2,
   "metadata": {},
   "outputs": [
    {
     "name": "stdout",
     "output_type": "stream",
     "text": [
      "[name: \"/device:CPU:0\"\n",
      "device_type: \"CPU\"\n",
      "memory_limit: 268435456\n",
      "locality {\n",
      "}\n",
      "incarnation: 16718855728674685753\n",
      ", name: \"/device:GPU:0\"\n",
      "device_type: \"GPU\"\n",
      "memory_limit: 1475054796\n",
      "locality {\n",
      "  bus_id: 1\n",
      "  links {\n",
      "  }\n",
      "}\n",
      "incarnation: 12301556470126735623\n",
      "physical_device_desc: \"device: 0, name: GeForce GTX 750 Ti, pci bus id: 0000:01:00.0, compute capability: 5.0\"\n",
      "]\n"
     ]
    }
   ],
   "source": [
    "from tensorflow.python.client import device_lib\n",
    "\n",
    "print(device_lib.list_local_devices())"
   ]
  },
  {
   "cell_type": "code",
   "execution_count": 6,
   "metadata": {},
   "outputs": [],
   "source": [
    "freq_data = sio.loadmat('../Data/frequencyDivisions.mat')\n",
    "freqBins = freq_data['frequencyDivisions'].T\n",
    "\n",
    "f = np.arange(0,1.25e6,1.25e6/freqPower.shape[1])\n",
    "\n",
    "freqData = np.zeros((int(freqBins.shape[0]/2), freqPower.shape[1]))\n",
    "i=0;\n",
    "for i, k in enumerate(range(0,freqBins.shape[0],2)):\n",
    "    auxIndexes = np.where((f>=freqBins[k]) & (f<freqBins[k+1]))\n",
    "    freqData[i,:] = np.mean(normalizedfreqPower[auxIndexes[0],:])\n",
    "    \n",
    "inputMatrix = np.concatenate((inputMatrix, freqData.T), axis = 1)\n"
   ]
  },
  {
   "cell_type": "code",
   "execution_count": 19,
   "metadata": {},
   "outputs": [
    {
     "name": "stdout",
     "output_type": "stream",
     "text": [
      "[1.48596851 0.91256831 0.81219603]\n",
      "[0 0 0 ... 2 2 2]\n",
      "2\n",
      "9.0\n",
      "[[1. 1. 1.]\n",
      " [1. 1. 1.]\n",
      " [1. 1. 1.]]\n"
     ]
    },
    {
     "data": {
      "text/plain": [
       "1.0"
      ]
     },
     "execution_count": 19,
     "metadata": {},
     "output_type": "execute_result"
    }
   ],
   "source": [
    "from sklearn.utils import class_weight\n",
    "cw = class_weight.compute_class_weight('balanced',np.unique(target),target )\n",
    "print(cw)\n",
    "print(target)\n",
    "print(len(range(0, 5+1, 5)))\n",
    "\n",
    "aaa = np.ones((5,3,3))\n",
    "print(np.sum(np.sum(np.mean(aaa,axis=0))))\n",
    "\n",
    "print(np.mean(aaa,axis=0))\n",
    "(3./3)"
   ]
  },
  {
   "cell_type": "code",
   "execution_count": 44,
   "metadata": {},
   "outputs": [
    {
     "name": "stdout",
     "output_type": "stream",
     "text": [
      "80.0%  overlap\n",
      "648 total samples\n",
      "starting fit\n",
      "Neural Network Model - train 1 initialization\n"
     ]
    },
    {
     "ename": "KeyboardInterrupt",
     "evalue": "",
     "output_type": "error",
     "traceback": [
      "\u001b[1;31m---------------------------------------------------------------------------\u001b[0m",
      "\u001b[1;31mKeyboardInterrupt\u001b[0m                         Traceback (most recent call last)",
      "\u001b[1;32m<ipython-input-44-910ad2e90dcf>\u001b[0m in \u001b[0;36m<module>\u001b[1;34m()\u001b[0m\n\u001b[0;32m     74\u001b[0m                                  \u001b[0mn_neurons\u001b[0m\u001b[1;33m=\u001b[0m\u001b[0mn_neurons\u001b[0m\u001b[1;33m,\u001b[0m \u001b[0mtrn_params\u001b[0m\u001b[1;33m=\u001b[0m\u001b[0mnn_params\u001b[0m\u001b[1;33m,\u001b[0m\u001b[1;33m\u001b[0m\u001b[0m\n\u001b[0;32m     75\u001b[0m                                  \u001b[0mactivation_functions\u001b[0m\u001b[1;33m=\u001b[0m\u001b[1;33m[\u001b[0m\u001b[1;34m'tanh'\u001b[0m\u001b[1;33m,\u001b[0m \u001b[1;34m'softmax'\u001b[0m\u001b[1;33m]\u001b[0m\u001b[1;33m,\u001b[0m\u001b[1;33m\u001b[0m\u001b[0m\n\u001b[1;32m---> 76\u001b[1;33m                                  class_weight = cw)\n\u001b[0m\u001b[0;32m     77\u001b[0m \u001b[1;33m\u001b[0m\u001b[0m\n\u001b[0;32m     78\u001b[0m             \u001b[0mnnOutputTest\u001b[0m \u001b[1;33m=\u001b[0m \u001b[0mnp\u001b[0m\u001b[1;33m.\u001b[0m\u001b[0margmax\u001b[0m\u001b[1;33m(\u001b[0m\u001b[0mnn_models\u001b[0m\u001b[1;33m[\u001b[0m\u001b[1;36m0\u001b[0m\u001b[1;33m]\u001b[0m\u001b[1;33m.\u001b[0m\u001b[0mpredict\u001b[0m\u001b[1;33m(\u001b[0m\u001b[0minputLSTM\u001b[0m\u001b[1;33m[\u001b[0m\u001b[0mtestIndexes\u001b[0m\u001b[1;33m]\u001b[0m\u001b[1;33m)\u001b[0m\u001b[1;33m,\u001b[0m\u001b[0maxis\u001b[0m\u001b[1;33m=\u001b[0m\u001b[1;36m1\u001b[0m\u001b[1;33m)\u001b[0m\u001b[1;33m\u001b[0m\u001b[0m\n",
      "\u001b[1;32mJ:\\BACKUPJ\\PythonProjects\\PetroAcousticEmission\\notebooks\\Functions\\models.py\u001b[0m in \u001b[0;36mfit\u001b[1;34m(self, inputs, outputs, train_indexes, n_neurons, activation_functions, trn_params, class_weight)\u001b[0m\n\u001b[0;32m    501\u001b[0m                                                        outputs[train_indexes[1]]),\n\u001b[0;32m    502\u001b[0m                                       \u001b[0mshuffle\u001b[0m\u001b[1;33m=\u001b[0m\u001b[1;32mFalse\u001b[0m\u001b[1;33m,\u001b[0m\u001b[1;33m\u001b[0m\u001b[0m\n\u001b[1;32m--> 503\u001b[1;33m                                       class_weight = class_weight)\n\u001b[0m\u001b[0;32m    504\u001b[0m \u001b[1;33m\u001b[0m\u001b[0m\n\u001b[0;32m    505\u001b[0m             \u001b[1;32mif\u001b[0m \u001b[0mmin_loss\u001b[0m \u001b[1;33m>\u001b[0m \u001b[0mnp\u001b[0m\u001b[1;33m.\u001b[0m\u001b[0mmin\u001b[0m\u001b[1;33m(\u001b[0m\u001b[0maux_desc\u001b[0m\u001b[1;33m.\u001b[0m\u001b[0mhistory\u001b[0m\u001b[1;33m[\u001b[0m\u001b[1;34m'val_loss'\u001b[0m\u001b[1;33m]\u001b[0m\u001b[1;33m)\u001b[0m\u001b[1;33m:\u001b[0m\u001b[1;33m\u001b[0m\u001b[0m\n",
      "\u001b[1;32mD:\\Anaconda3\\lib\\site-packages\\keras\\engine\\training.py\u001b[0m in \u001b[0;36mfit\u001b[1;34m(self, x, y, batch_size, epochs, verbose, callbacks, validation_split, validation_data, shuffle, class_weight, sample_weight, initial_epoch, steps_per_epoch, validation_steps, **kwargs)\u001b[0m\n\u001b[0;32m   1035\u001b[0m                                         \u001b[0minitial_epoch\u001b[0m\u001b[1;33m=\u001b[0m\u001b[0minitial_epoch\u001b[0m\u001b[1;33m,\u001b[0m\u001b[1;33m\u001b[0m\u001b[0m\n\u001b[0;32m   1036\u001b[0m                                         \u001b[0msteps_per_epoch\u001b[0m\u001b[1;33m=\u001b[0m\u001b[0msteps_per_epoch\u001b[0m\u001b[1;33m,\u001b[0m\u001b[1;33m\u001b[0m\u001b[0m\n\u001b[1;32m-> 1037\u001b[1;33m                                         validation_steps=validation_steps)\n\u001b[0m\u001b[0;32m   1038\u001b[0m \u001b[1;33m\u001b[0m\u001b[0m\n\u001b[0;32m   1039\u001b[0m     def evaluate(self, x=None, y=None,\n",
      "\u001b[1;32mD:\\Anaconda3\\lib\\site-packages\\keras\\engine\\training_arrays.py\u001b[0m in \u001b[0;36mfit_loop\u001b[1;34m(model, f, ins, out_labels, batch_size, epochs, verbose, callbacks, val_f, val_ins, shuffle, callback_metrics, initial_epoch, steps_per_epoch, validation_steps)\u001b[0m\n\u001b[0;32m    197\u001b[0m                     \u001b[0mins_batch\u001b[0m\u001b[1;33m[\u001b[0m\u001b[0mi\u001b[0m\u001b[1;33m]\u001b[0m \u001b[1;33m=\u001b[0m \u001b[0mins_batch\u001b[0m\u001b[1;33m[\u001b[0m\u001b[0mi\u001b[0m\u001b[1;33m]\u001b[0m\u001b[1;33m.\u001b[0m\u001b[0mtoarray\u001b[0m\u001b[1;33m(\u001b[0m\u001b[1;33m)\u001b[0m\u001b[1;33m\u001b[0m\u001b[0m\n\u001b[0;32m    198\u001b[0m \u001b[1;33m\u001b[0m\u001b[0m\n\u001b[1;32m--> 199\u001b[1;33m                 \u001b[0mouts\u001b[0m \u001b[1;33m=\u001b[0m \u001b[0mf\u001b[0m\u001b[1;33m(\u001b[0m\u001b[0mins_batch\u001b[0m\u001b[1;33m)\u001b[0m\u001b[1;33m\u001b[0m\u001b[0m\n\u001b[0m\u001b[0;32m    200\u001b[0m                 \u001b[0mouts\u001b[0m \u001b[1;33m=\u001b[0m \u001b[0mto_list\u001b[0m\u001b[1;33m(\u001b[0m\u001b[0mouts\u001b[0m\u001b[1;33m)\u001b[0m\u001b[1;33m\u001b[0m\u001b[0m\n\u001b[0;32m    201\u001b[0m                 \u001b[1;32mfor\u001b[0m \u001b[0ml\u001b[0m\u001b[1;33m,\u001b[0m \u001b[0mo\u001b[0m \u001b[1;32min\u001b[0m \u001b[0mzip\u001b[0m\u001b[1;33m(\u001b[0m\u001b[0mout_labels\u001b[0m\u001b[1;33m,\u001b[0m \u001b[0mouts\u001b[0m\u001b[1;33m)\u001b[0m\u001b[1;33m:\u001b[0m\u001b[1;33m\u001b[0m\u001b[0m\n",
      "\u001b[1;32mD:\\Anaconda3\\lib\\site-packages\\keras\\backend\\tensorflow_backend.py\u001b[0m in \u001b[0;36m__call__\u001b[1;34m(self, inputs)\u001b[0m\n\u001b[0;32m   2664\u001b[0m                 \u001b[1;32mreturn\u001b[0m \u001b[0mself\u001b[0m\u001b[1;33m.\u001b[0m\u001b[0m_legacy_call\u001b[0m\u001b[1;33m(\u001b[0m\u001b[0minputs\u001b[0m\u001b[1;33m)\u001b[0m\u001b[1;33m\u001b[0m\u001b[0m\n\u001b[0;32m   2665\u001b[0m \u001b[1;33m\u001b[0m\u001b[0m\n\u001b[1;32m-> 2666\u001b[1;33m             \u001b[1;32mreturn\u001b[0m \u001b[0mself\u001b[0m\u001b[1;33m.\u001b[0m\u001b[0m_call\u001b[0m\u001b[1;33m(\u001b[0m\u001b[0minputs\u001b[0m\u001b[1;33m)\u001b[0m\u001b[1;33m\u001b[0m\u001b[0m\n\u001b[0m\u001b[0;32m   2667\u001b[0m         \u001b[1;32melse\u001b[0m\u001b[1;33m:\u001b[0m\u001b[1;33m\u001b[0m\u001b[0m\n\u001b[0;32m   2668\u001b[0m             \u001b[1;32mif\u001b[0m \u001b[0mpy_any\u001b[0m\u001b[1;33m(\u001b[0m\u001b[0mis_tensor\u001b[0m\u001b[1;33m(\u001b[0m\u001b[0mx\u001b[0m\u001b[1;33m)\u001b[0m \u001b[1;32mfor\u001b[0m \u001b[0mx\u001b[0m \u001b[1;32min\u001b[0m \u001b[0minputs\u001b[0m\u001b[1;33m)\u001b[0m\u001b[1;33m:\u001b[0m\u001b[1;33m\u001b[0m\u001b[0m\n",
      "\u001b[1;32mD:\\Anaconda3\\lib\\site-packages\\keras\\backend\\tensorflow_backend.py\u001b[0m in \u001b[0;36m_call\u001b[1;34m(self, inputs)\u001b[0m\n\u001b[0;32m   2634\u001b[0m                                 \u001b[0msymbol_vals\u001b[0m\u001b[1;33m,\u001b[0m\u001b[1;33m\u001b[0m\u001b[0m\n\u001b[0;32m   2635\u001b[0m                                 session)\n\u001b[1;32m-> 2636\u001b[1;33m         \u001b[0mfetched\u001b[0m \u001b[1;33m=\u001b[0m \u001b[0mself\u001b[0m\u001b[1;33m.\u001b[0m\u001b[0m_callable_fn\u001b[0m\u001b[1;33m(\u001b[0m\u001b[1;33m*\u001b[0m\u001b[0marray_vals\u001b[0m\u001b[1;33m)\u001b[0m\u001b[1;33m\u001b[0m\u001b[0m\n\u001b[0m\u001b[0;32m   2637\u001b[0m         \u001b[1;32mreturn\u001b[0m \u001b[0mfetched\u001b[0m\u001b[1;33m[\u001b[0m\u001b[1;33m:\u001b[0m\u001b[0mlen\u001b[0m\u001b[1;33m(\u001b[0m\u001b[0mself\u001b[0m\u001b[1;33m.\u001b[0m\u001b[0moutputs\u001b[0m\u001b[1;33m)\u001b[0m\u001b[1;33m]\u001b[0m\u001b[1;33m\u001b[0m\u001b[0m\n\u001b[0;32m   2638\u001b[0m \u001b[1;33m\u001b[0m\u001b[0m\n",
      "\u001b[1;32mD:\\Anaconda3\\lib\\site-packages\\tensorflow\\python\\client\\session.py\u001b[0m in \u001b[0;36m__call__\u001b[1;34m(self, *args, **kwargs)\u001b[0m\n\u001b[0;32m   1380\u001b[0m           ret = tf_session.TF_SessionRunCallable(\n\u001b[0;32m   1381\u001b[0m               \u001b[0mself\u001b[0m\u001b[1;33m.\u001b[0m\u001b[0m_session\u001b[0m\u001b[1;33m.\u001b[0m\u001b[0m_session\u001b[0m\u001b[1;33m,\u001b[0m \u001b[0mself\u001b[0m\u001b[1;33m.\u001b[0m\u001b[0m_handle\u001b[0m\u001b[1;33m,\u001b[0m \u001b[0margs\u001b[0m\u001b[1;33m,\u001b[0m \u001b[0mstatus\u001b[0m\u001b[1;33m,\u001b[0m\u001b[1;33m\u001b[0m\u001b[0m\n\u001b[1;32m-> 1382\u001b[1;33m               run_metadata_ptr)\n\u001b[0m\u001b[0;32m   1383\u001b[0m         \u001b[1;32mif\u001b[0m \u001b[0mrun_metadata\u001b[0m\u001b[1;33m:\u001b[0m\u001b[1;33m\u001b[0m\u001b[0m\n\u001b[0;32m   1384\u001b[0m           \u001b[0mproto_data\u001b[0m \u001b[1;33m=\u001b[0m \u001b[0mtf_session\u001b[0m\u001b[1;33m.\u001b[0m\u001b[0mTF_GetBuffer\u001b[0m\u001b[1;33m(\u001b[0m\u001b[0mrun_metadata_ptr\u001b[0m\u001b[1;33m)\u001b[0m\u001b[1;33m\u001b[0m\u001b[0m\n",
      "\u001b[1;31mKeyboardInterrupt\u001b[0m: "
     ]
    }
   ],
   "source": [
    "import numpy as np\n",
    "from sklearn import datasets\n",
    "from sklearn.model_selection import StratifiedKFold, KFold\n",
    "from sklearn import preprocessing\n",
    "from sklearn.externals import joblib\n",
    "from sklearn.utils import class_weight\n",
    "from sklearn.metrics import confusion_matrix\n",
    "\n",
    "import matplotlib.pyplot as plt\n",
    "%matplotlib inline\n",
    "\n",
    "import os\n",
    "from Functions import models\n",
    "from Functions.aux_func import *\n",
    "\n",
    "#Time sequentializing data\n",
    "sortIndexes = np.argsort(triggerTime,axis=0)[:,0]\n",
    "outputs = outputs[sortIndexes].reshape((outputs.shape[0],1))\n",
    "inputMatrix = inputMatrix[sortIndexes]\n",
    "trainPercentage = 0.7\n",
    "testPercentage = 0.3\n",
    "\n",
    "nn_models = {}\n",
    "n_neurons = 16\n",
    "nn_params = models.NeuralNetworkParams(learning_rate=0.005,\n",
    "                                       n_epochs=500,\n",
    "                                       batch_size=3,\n",
    "                                       verbose=True, \n",
    "                                       n_inits=1)\n",
    "MAX_RUNS = 1\n",
    "\n",
    "MAX_SAMPLE_SIZE = 5\n",
    "\n",
    "\n",
    "confusionMatrixRecord = np.zeros( (len(range(5,MAX_SAMPLE_SIZE+1,5)), len(range(0,MAX_SAMPLE_SIZE+1,5)), 2, 3, 3) )\n",
    "accRecord = -1*np.ones((len(range(5,35,5)), len(range(0,35+1,5)), 3))\n",
    "\n",
    "for i, sampleSize in enumerate(range(5, MAX_SAMPLE_SIZE+1, 5)):\n",
    "    for j, delta in enumerate(range(0, sampleSize+1, 5)):\n",
    "\n",
    "        dummy, targetLSTM = createLSTMInput(inputMatrix, outputs, sampleSize, delta+1)\n",
    "\n",
    "        spIndexes = np.where(targetLSTM == 0)[0]\n",
    "        peIndexes = np.where(targetLSTM == 1)[0]\n",
    "        piIndexes = np.where(targetLSTM == 2)[0]\n",
    "\n",
    "\n",
    "        trainIndexes = np.concatenate((spIndexes[0:int(spIndexes.size*trainPercentage)], peIndexes[0:int(peIndexes.size*trainPercentage)], piIndexes[0:int(piIndexes.size*trainPercentage)]))\n",
    "        testIndexes = np.concatenate((spIndexes[-int(spIndexes.size*testPercentage):], peIndexes[-int(peIndexes.size*testPercentage):], piIndexes[-int(piIndexes.size*testPercentage):]))\n",
    "\n",
    "        scaler = preprocessing.StandardScaler().fit(inputMatrix[trainIndexes])\n",
    "        normalized_inputs = scaler.transform(inputMatrix)\n",
    "\n",
    "        inputLSTM, dummy = createLSTMInput(normalized_inputs,outputs, sampleSize, delta+1)\n",
    "        T = len(testIndexes)\n",
    "\n",
    "        cw = class_weight.compute_class_weight('balanced',np.unique(targetLSTM[trainIndexes]).flatten(),targetLSTM[trainIndexes].flatten())\n",
    "        cw = dict(enumerate(cw))\n",
    "\n",
    "        cm = np.zeros((MAX_RUNS,3,3))\n",
    "        print(\"{}%  overlap\".format(100-100.0*(delta+1.0)/sampleSize))\n",
    "        print(\"{} total samples\".format(T))\n",
    "\n",
    "        for runs in range(0,MAX_RUNS):\n",
    "            nn_models[runs] = models.LSTMModel()\n",
    "\n",
    "            nn_models[runs].loss = 'categorical_crossentropy'\n",
    "            nn_models[runs].optimizer = 'rmsprop'\n",
    "\n",
    "            print('starting fit')\n",
    "            nn_models[runs].fit(inputs=inputLSTM,\n",
    "                                 outputs = catToSparse(targetLSTM),\n",
    "                                 train_indexes=[trainIndexes, testIndexes],\n",
    "                                 n_neurons=n_neurons, trn_params=nn_params, \n",
    "                                 activation_functions=['tanh', 'softmax'],\n",
    "                                 class_weight = cw)\n",
    "            \n",
    "            nnOutputTest = np.argmax(nn_models[0].predict(inputLSTM[testIndexes]),axis=1)\n",
    "            classTestOutput = np.argmax(catToSparse(targetLSTM[testIndexes]),axis=1)\n",
    "            cm[runs] = confusion_matrix(classTestOutput, nnOutputTest)\n",
    "\n",
    "        std_cm = np.std(cm/T,axis=0)\n",
    "        cm = np.mean(cm,axis=0)\n",
    "        accRecord[i,j,0] = cm[0,0].astype('float')/T\n",
    "        accRecord[i,j,1] = cm[1,1].astype('float')/T\n",
    "        accRecord[i,j,2] = cm[2,2].astype('float')/T\n",
    "        confusionMatrixRecord[i,j,0] = cm\n",
    "        confusionMatrixRecord[i,j,1] = std_cm\n",
    "        print(cm)\n",
    "\n",
    "\n",
    "np.save('cmRecord', confusionMatrixRecord)\n",
    "np.save('accRecord', accRecord)\n",
    "    #nn_models.save('%s_%i_neurons_%i_fold'%(nn_models[ifold].get_str(), \n",
    "     #                                            n_neurons,ifold),\n",
    "      #                    '../Results/NeuralNetwork')"
   ]
  },
  {
   "cell_type": "code",
   "execution_count": 43,
   "metadata": {},
   "outputs": [
    {
     "data": {
      "text/plain": [
       "576"
      ]
     },
     "execution_count": 43,
     "metadata": {},
     "output_type": "execute_result"
    }
   ],
   "source": []
  },
  {
   "cell_type": "code",
   "execution_count": 3,
   "metadata": {},
   "outputs": [
    {
     "name": "stdout",
     "output_type": "stream",
     "text": [
      "Neural Network Model - train 1 initialization\n"
     ]
    },
    {
     "ename": "KeyboardInterrupt",
     "evalue": "",
     "output_type": "error",
     "traceback": [
      "\u001b[1;31m---------------------------------------------------------------------------\u001b[0m",
      "\u001b[1;31mKeyboardInterrupt\u001b[0m                         Traceback (most recent call last)",
      "\u001b[1;32m<ipython-input-3-7de5dc14bfcf>\u001b[0m in \u001b[0;36m<module>\u001b[1;34m()\u001b[0m\n\u001b[0;32m     64\u001b[0m                          \u001b[0mn_neurons\u001b[0m\u001b[1;33m=\u001b[0m\u001b[0mn_neurons\u001b[0m\u001b[1;33m,\u001b[0m \u001b[0mtrn_params\u001b[0m\u001b[1;33m=\u001b[0m\u001b[0mnn_params\u001b[0m\u001b[1;33m,\u001b[0m\u001b[1;33m\u001b[0m\u001b[0m\n\u001b[0;32m     65\u001b[0m                          \u001b[0mactivation_functions\u001b[0m\u001b[1;33m=\u001b[0m\u001b[1;33m[\u001b[0m\u001b[1;34m'tanh'\u001b[0m\u001b[1;33m,\u001b[0m \u001b[1;34m'softmax'\u001b[0m\u001b[1;33m]\u001b[0m\u001b[1;33m,\u001b[0m\u001b[1;33m\u001b[0m\u001b[0m\n\u001b[1;32m---> 66\u001b[1;33m                          class_weight = cw)\n\u001b[0m\u001b[0;32m     67\u001b[0m     \u001b[0mprint\u001b[0m\u001b[1;33m(\u001b[0m\u001b[0mruns\u001b[0m\u001b[1;33m)\u001b[0m\u001b[1;33m\u001b[0m\u001b[0m\n\u001b[0;32m     68\u001b[0m     \u001b[1;31m#nn_models.save('%s_%i_neurons_%i_fold'%(nn_models[ifold].get_str(),\u001b[0m\u001b[1;33m\u001b[0m\u001b[1;33m\u001b[0m\u001b[0m\n",
      "\u001b[1;32mJ:\\BACKUPJ\\PythonProjects\\PetroAcousticEmission\\notebooks\\Functions\\models.py\u001b[0m in \u001b[0;36mfit\u001b[1;34m(self, inputs, outputs, train_indexes, n_neurons, activation_functions, trn_params, class_weight)\u001b[0m\n\u001b[0;32m    501\u001b[0m                                                        outputs[train_indexes[1]]),\n\u001b[0;32m    502\u001b[0m                                       \u001b[0mshuffle\u001b[0m\u001b[1;33m=\u001b[0m\u001b[1;32mFalse\u001b[0m\u001b[1;33m,\u001b[0m\u001b[1;33m\u001b[0m\u001b[0m\n\u001b[1;32m--> 503\u001b[1;33m                                       class_weight = class_weight)\n\u001b[0m\u001b[0;32m    504\u001b[0m \u001b[1;33m\u001b[0m\u001b[0m\n\u001b[0;32m    505\u001b[0m             \u001b[1;32mif\u001b[0m \u001b[0mmin_loss\u001b[0m \u001b[1;33m>\u001b[0m \u001b[0mnp\u001b[0m\u001b[1;33m.\u001b[0m\u001b[0mmin\u001b[0m\u001b[1;33m(\u001b[0m\u001b[0maux_desc\u001b[0m\u001b[1;33m.\u001b[0m\u001b[0mhistory\u001b[0m\u001b[1;33m[\u001b[0m\u001b[1;34m'val_loss'\u001b[0m\u001b[1;33m]\u001b[0m\u001b[1;33m)\u001b[0m\u001b[1;33m:\u001b[0m\u001b[1;33m\u001b[0m\u001b[0m\n",
      "\u001b[1;32mD:\\Anaconda3\\lib\\site-packages\\keras\\engine\\training.py\u001b[0m in \u001b[0;36mfit\u001b[1;34m(self, x, y, batch_size, epochs, verbose, callbacks, validation_split, validation_data, shuffle, class_weight, sample_weight, initial_epoch, steps_per_epoch, validation_steps, **kwargs)\u001b[0m\n\u001b[0;32m   1035\u001b[0m                                         \u001b[0minitial_epoch\u001b[0m\u001b[1;33m=\u001b[0m\u001b[0minitial_epoch\u001b[0m\u001b[1;33m,\u001b[0m\u001b[1;33m\u001b[0m\u001b[0m\n\u001b[0;32m   1036\u001b[0m                                         \u001b[0msteps_per_epoch\u001b[0m\u001b[1;33m=\u001b[0m\u001b[0msteps_per_epoch\u001b[0m\u001b[1;33m,\u001b[0m\u001b[1;33m\u001b[0m\u001b[0m\n\u001b[1;32m-> 1037\u001b[1;33m                                         validation_steps=validation_steps)\n\u001b[0m\u001b[0;32m   1038\u001b[0m \u001b[1;33m\u001b[0m\u001b[0m\n\u001b[0;32m   1039\u001b[0m     def evaluate(self, x=None, y=None,\n",
      "\u001b[1;32mD:\\Anaconda3\\lib\\site-packages\\keras\\engine\\training_arrays.py\u001b[0m in \u001b[0;36mfit_loop\u001b[1;34m(model, f, ins, out_labels, batch_size, epochs, verbose, callbacks, val_f, val_ins, shuffle, callback_metrics, initial_epoch, steps_per_epoch, validation_steps)\u001b[0m\n\u001b[0;32m    197\u001b[0m                     \u001b[0mins_batch\u001b[0m\u001b[1;33m[\u001b[0m\u001b[0mi\u001b[0m\u001b[1;33m]\u001b[0m \u001b[1;33m=\u001b[0m \u001b[0mins_batch\u001b[0m\u001b[1;33m[\u001b[0m\u001b[0mi\u001b[0m\u001b[1;33m]\u001b[0m\u001b[1;33m.\u001b[0m\u001b[0mtoarray\u001b[0m\u001b[1;33m(\u001b[0m\u001b[1;33m)\u001b[0m\u001b[1;33m\u001b[0m\u001b[0m\n\u001b[0;32m    198\u001b[0m \u001b[1;33m\u001b[0m\u001b[0m\n\u001b[1;32m--> 199\u001b[1;33m                 \u001b[0mouts\u001b[0m \u001b[1;33m=\u001b[0m \u001b[0mf\u001b[0m\u001b[1;33m(\u001b[0m\u001b[0mins_batch\u001b[0m\u001b[1;33m)\u001b[0m\u001b[1;33m\u001b[0m\u001b[0m\n\u001b[0m\u001b[0;32m    200\u001b[0m                 \u001b[0mouts\u001b[0m \u001b[1;33m=\u001b[0m \u001b[0mto_list\u001b[0m\u001b[1;33m(\u001b[0m\u001b[0mouts\u001b[0m\u001b[1;33m)\u001b[0m\u001b[1;33m\u001b[0m\u001b[0m\n\u001b[0;32m    201\u001b[0m                 \u001b[1;32mfor\u001b[0m \u001b[0ml\u001b[0m\u001b[1;33m,\u001b[0m \u001b[0mo\u001b[0m \u001b[1;32min\u001b[0m \u001b[0mzip\u001b[0m\u001b[1;33m(\u001b[0m\u001b[0mout_labels\u001b[0m\u001b[1;33m,\u001b[0m \u001b[0mouts\u001b[0m\u001b[1;33m)\u001b[0m\u001b[1;33m:\u001b[0m\u001b[1;33m\u001b[0m\u001b[0m\n",
      "\u001b[1;32mD:\\Anaconda3\\lib\\site-packages\\keras\\backend\\tensorflow_backend.py\u001b[0m in \u001b[0;36m__call__\u001b[1;34m(self, inputs)\u001b[0m\n\u001b[0;32m   2664\u001b[0m                 \u001b[1;32mreturn\u001b[0m \u001b[0mself\u001b[0m\u001b[1;33m.\u001b[0m\u001b[0m_legacy_call\u001b[0m\u001b[1;33m(\u001b[0m\u001b[0minputs\u001b[0m\u001b[1;33m)\u001b[0m\u001b[1;33m\u001b[0m\u001b[0m\n\u001b[0;32m   2665\u001b[0m \u001b[1;33m\u001b[0m\u001b[0m\n\u001b[1;32m-> 2666\u001b[1;33m             \u001b[1;32mreturn\u001b[0m \u001b[0mself\u001b[0m\u001b[1;33m.\u001b[0m\u001b[0m_call\u001b[0m\u001b[1;33m(\u001b[0m\u001b[0minputs\u001b[0m\u001b[1;33m)\u001b[0m\u001b[1;33m\u001b[0m\u001b[0m\n\u001b[0m\u001b[0;32m   2667\u001b[0m         \u001b[1;32melse\u001b[0m\u001b[1;33m:\u001b[0m\u001b[1;33m\u001b[0m\u001b[0m\n\u001b[0;32m   2668\u001b[0m             \u001b[1;32mif\u001b[0m \u001b[0mpy_any\u001b[0m\u001b[1;33m(\u001b[0m\u001b[0mis_tensor\u001b[0m\u001b[1;33m(\u001b[0m\u001b[0mx\u001b[0m\u001b[1;33m)\u001b[0m \u001b[1;32mfor\u001b[0m \u001b[0mx\u001b[0m \u001b[1;32min\u001b[0m \u001b[0minputs\u001b[0m\u001b[1;33m)\u001b[0m\u001b[1;33m:\u001b[0m\u001b[1;33m\u001b[0m\u001b[0m\n",
      "\u001b[1;32mD:\\Anaconda3\\lib\\site-packages\\keras\\backend\\tensorflow_backend.py\u001b[0m in \u001b[0;36m_call\u001b[1;34m(self, inputs)\u001b[0m\n\u001b[0;32m   2634\u001b[0m                                 \u001b[0msymbol_vals\u001b[0m\u001b[1;33m,\u001b[0m\u001b[1;33m\u001b[0m\u001b[0m\n\u001b[0;32m   2635\u001b[0m                                 session)\n\u001b[1;32m-> 2636\u001b[1;33m         \u001b[0mfetched\u001b[0m \u001b[1;33m=\u001b[0m \u001b[0mself\u001b[0m\u001b[1;33m.\u001b[0m\u001b[0m_callable_fn\u001b[0m\u001b[1;33m(\u001b[0m\u001b[1;33m*\u001b[0m\u001b[0marray_vals\u001b[0m\u001b[1;33m)\u001b[0m\u001b[1;33m\u001b[0m\u001b[0m\n\u001b[0m\u001b[0;32m   2637\u001b[0m         \u001b[1;32mreturn\u001b[0m \u001b[0mfetched\u001b[0m\u001b[1;33m[\u001b[0m\u001b[1;33m:\u001b[0m\u001b[0mlen\u001b[0m\u001b[1;33m(\u001b[0m\u001b[0mself\u001b[0m\u001b[1;33m.\u001b[0m\u001b[0moutputs\u001b[0m\u001b[1;33m)\u001b[0m\u001b[1;33m]\u001b[0m\u001b[1;33m\u001b[0m\u001b[0m\n\u001b[0;32m   2638\u001b[0m \u001b[1;33m\u001b[0m\u001b[0m\n",
      "\u001b[1;32mD:\\Anaconda3\\lib\\site-packages\\tensorflow\\python\\client\\session.py\u001b[0m in \u001b[0;36m__call__\u001b[1;34m(self, *args, **kwargs)\u001b[0m\n\u001b[0;32m   1380\u001b[0m           ret = tf_session.TF_SessionRunCallable(\n\u001b[0;32m   1381\u001b[0m               \u001b[0mself\u001b[0m\u001b[1;33m.\u001b[0m\u001b[0m_session\u001b[0m\u001b[1;33m.\u001b[0m\u001b[0m_session\u001b[0m\u001b[1;33m,\u001b[0m \u001b[0mself\u001b[0m\u001b[1;33m.\u001b[0m\u001b[0m_handle\u001b[0m\u001b[1;33m,\u001b[0m \u001b[0margs\u001b[0m\u001b[1;33m,\u001b[0m \u001b[0mstatus\u001b[0m\u001b[1;33m,\u001b[0m\u001b[1;33m\u001b[0m\u001b[0m\n\u001b[1;32m-> 1382\u001b[1;33m               run_metadata_ptr)\n\u001b[0m\u001b[0;32m   1383\u001b[0m         \u001b[1;32mif\u001b[0m \u001b[0mrun_metadata\u001b[0m\u001b[1;33m:\u001b[0m\u001b[1;33m\u001b[0m\u001b[0m\n\u001b[0;32m   1384\u001b[0m           \u001b[0mproto_data\u001b[0m \u001b[1;33m=\u001b[0m \u001b[0mtf_session\u001b[0m\u001b[1;33m.\u001b[0m\u001b[0mTF_GetBuffer\u001b[0m\u001b[1;33m(\u001b[0m\u001b[0mrun_metadata_ptr\u001b[0m\u001b[1;33m)\u001b[0m\u001b[1;33m\u001b[0m\u001b[0m\n",
      "\u001b[1;31mKeyboardInterrupt\u001b[0m: "
     ]
    }
   ],
   "source": [
    "import numpy as np\n",
    "from sklearn import datasets\n",
    "from sklearn.model_selection import StratifiedKFold, KFold\n",
    "from sklearn import preprocessing\n",
    "from sklearn.externals import joblib\n",
    "from sklearn.utils import class_weight\n",
    "\n",
    "from sklearn.metrics import confusion_matrix\n",
    "\n",
    "import matplotlib.pyplot as plt\n",
    "%matplotlib inline\n",
    "\n",
    "import os\n",
    "from Functions import models\n",
    "from Functions.aux_func import *\n",
    "\n",
    "#Creates the train/test indexes\n",
    "sortIndexes = np.argsort(triggerTime,axis=0)[:,0]\n",
    "outputs = outputs[sortIndexes].reshape((outputs.shape[0],1))\n",
    "inputMatrix = inputMatrix[sortIndexes]\n",
    "\n",
    "\n",
    "nn_models = {}\n",
    "n_neurons = 16\n",
    "nn_params = models.NeuralNetworkParams(learning_rate=0.005,\n",
    "                                       n_epochs=500,\n",
    "                                       batch_size=1,\n",
    "                                       verbose=True, \n",
    "                                       n_inits=2)\n",
    "\n",
    "\n",
    "sampleSize = 20\n",
    "delta = 18\n",
    "\n",
    "dummy, targetLSTM = createLSTMInput(inputMatrix, outputs, sampleSize, delta)\n",
    "\n",
    "spIndexes = np.where(targetLSTM == 0)[0]\n",
    "piIndexes = np.where(targetLSTM == 2)[0]\n",
    "peIndexes = np.where(targetLSTM == 1)[0]\n",
    "\n",
    "trainPercentage = 0.7\n",
    "testPercentage = 0.3\n",
    "\n",
    "trainIndexes = np.concatenate((spIndexes[0:int(spIndexes.size*trainPercentage)], peIndexes[0:int(peIndexes.size*trainPercentage)], piIndexes[0:int(piIndexes.size*trainPercentage)]))\n",
    "testIndexes = np.concatenate((spIndexes[-int(spIndexes.size*testPercentage):], peIndexes[-int(peIndexes.size*testPercentage):], piIndexes[-int(piIndexes.size*testPercentage):]))\n",
    "\n",
    "scaler = preprocessing.StandardScaler().fit(inputMatrix[trainIndexes])\n",
    "normalized_inputs = scaler.transform(inputMatrix)\n",
    "\n",
    "inputLSTM, dummy = createLSTMInput(normalized_inputs,outputs, sampleSize, delta)\n",
    "\n",
    "cw = class_weight.compute_class_weight('balanced',np.unique(targetLSTM[trainIndexes]).flatten(),targetLSTM[trainIndexes].flatten())\n",
    "cw = dict(enumerate(cw))\n",
    "\n",
    "for runs in range(0,2):\n",
    "    nn_models[runs] = models.LSTMModel()\n",
    "\n",
    "    nn_models[runs].loss = 'categorical_crossentropy'\n",
    "    nn_models[runs].optimizer = 'rmsprop'\n",
    "\n",
    "    nn_models[runs].fit(inputs=inputLSTM,\n",
    "                         outputs = catToSparse(targetLSTM),\n",
    "                         train_indexes=[trainIndexes, testIndexes],\n",
    "                         n_neurons=n_neurons, trn_params=nn_params, \n",
    "                         activation_functions=['tanh', 'softmax'],\n",
    "                         class_weight = cw)\n",
    "    print(runs)\n",
    "    #nn_models.save('%s_%i_neurons_%i_fold'%(nn_models[ifold].get_str(), \n",
    "     #                                            n_neurons,ifold),\n",
    "      #                    '../Results/NeuralNetwork')"
   ]
  },
  {
   "cell_type": "code",
   "execution_count": 31,
   "metadata": {},
   "outputs": [],
   "source": [
    "#targetLSTM[trainIndexes].shape\n",
    "\n",
    "cw = class_weight.compute_class_weight('balanced',np.unique(targetLSTM[trainIndexes]).flatten(),targetLSTM[trainIndexes].flatten())\n",
    "cw = dict(enumerate(cw))\n",
    "\n"
   ]
  },
  {
   "cell_type": "code",
   "execution_count": 32,
   "metadata": {},
   "outputs": [
    {
     "data": {
      "text/plain": [
       "{0: 1.5009980039920159, 1: 0.9049338146811071, 2: 0.8138528138528138}"
      ]
     },
     "execution_count": 32,
     "metadata": {},
     "output_type": "execute_result"
    }
   ],
   "source": [
    "cw"
   ]
  },
  {
   "cell_type": "code",
   "execution_count": 91,
   "metadata": {},
   "outputs": [],
   "source": [
    "sortIndexes = np.argsort(triggerTime,axis=0)[:,0]\n",
    "outputs = outputs[sortIndexes].reshape((outputs.shape[0],1))\n",
    "inputMatrix = inputMatrix[sortIndexes]\n",
    "triggerTime = triggerTime[sortIndexes]\n",
    "\n",
    "spIndexes = np.where(triggerTime <= 3000)[0]\n",
    "piIndexes = np.where(triggerTime >= 9000)[0]\n",
    "peIndexes = np.where( (triggerTime > 3000) & (triggerTime < 9000) )[0]\n",
    "\n",
    "trainPercentage = 0.7\n",
    "testPercentage = 0.3\n",
    "\n",
    "trainIndexes = np.concatenate((spIndexes[0:int(spIndexes.size*trainPercentage)], peIndexes[0:int(peIndexes.size*trainPercentage)], piIndexes[0:int(piIndexes.size*trainPercentage)]))\n",
    "testIndexes = np.concatenate((spIndexes[-int(spIndexes.size*testPercentage):], peIndexes[-int(peIndexes.size*testPercentage):], piIndexes[-int(piIndexes.size*testPercentage):]))\n",
    "\n"
   ]
  },
  {
   "cell_type": "code",
   "execution_count": 88,
   "metadata": {},
   "outputs": [
    {
     "data": {
      "text/plain": [
       "array([[1040.2113568],\n",
       "       [1040.2114108],\n",
       "       [1040.2131584],\n",
       "       ...,\n",
       "       [9540.7856592],\n",
       "       [9540.7912052],\n",
       "       [9540.7913932]])"
      ]
     },
     "execution_count": 88,
     "metadata": {},
     "output_type": "execute_result"
    }
   ],
   "source": [
    "triggerTime"
   ]
  },
  {
   "cell_type": "code",
   "execution_count": null,
   "metadata": {},
   "outputs": [],
   "source": []
  },
  {
   "cell_type": "code",
   "execution_count": 19,
   "metadata": {},
   "outputs": [],
   "source": [
    "targetLSTM.shape\n",
    "spIndexes = np.where(targetLSTM == 0)[0]\n",
    "piIndexes = np.where(targetLSTM == 2)[0]\n",
    "peIndexes = np.where(targetLSTM == 1)[0]\n",
    "\n",
    "trainPercentage = 0.7\n",
    "testPercentage = 0.3\n",
    "\n",
    "trainIndexes = np.concatenate((spIndexes[0:int(spIndexes.size*trainPercentage)], peIndexes[0:int(peIndexes.size*trainPercentage)], piIndexes[0:int(piIndexes.size*trainPercentage)]))\n",
    "testIndexes = np.concatenate((spIndexes[-int(spIndexes.size*testPercentage):], peIndexes[-int(peIndexes.size*testPercentage):], piIndexes[-int(piIndexes.size*testPercentage):]))\n",
    "\n"
   ]
  },
  {
   "cell_type": "code",
   "execution_count": 65,
   "metadata": {},
   "outputs": [],
   "source": [
    "N = 50; P = 1;\n",
    "data = np.zeros((N,P))\n",
    "data[0:int(N/2),:] = 1*np.random.randn(int(N/2),P)+0\n",
    "data[int(N/2):,:] = 1*np.random.randn(int(N/2),P)+2\n",
    "\n",
    "target = np.zeros((N,1))\n",
    "target[int(N/2):,0] = 1;\n",
    "\n",
    "dataLSTM, targetLSTM = createLSTMInput(target,target, 7, 4)\n"
   ]
  },
  {
   "cell_type": "code",
   "execution_count": 58,
   "metadata": {},
   "outputs": [],
   "source": [
    "import numpy as np\n",
    "def createLSTMInput(data,target, sampleSize, step):\n",
    "    if step > sampleSize: \n",
    "        step = sampleSize\n",
    "    indexRange = range(0,data.shape[0]-sampleSize+1,step)\n",
    "    outputData = np.zeros((len(indexRange), sampleSize, data.shape[1]))\n",
    "    targetTensor = np.zeros((len(indexRange), sampleSize, target.shape[1]))\n",
    "    outputTarget = np.zeros((len(indexRange), 1))\n",
    "    for index, k in enumerate(indexRange):\n",
    "        outputData[index,:,:] = data[k:(k+sampleSize),:]\n",
    "        targetTensor[index,:,:] = target[k:(k+sampleSize),:]\n",
    "        classes, count = np.unique(targetTensor[index,:,:],return_counts=True)\n",
    "        outputTarget[index,0] = classes[np.argmax(count)]\n",
    "    return outputData, outputTarget"
   ]
  },
  {
   "cell_type": "code",
   "execution_count": 50,
   "metadata": {},
   "outputs": [
    {
     "data": {
      "text/plain": [
       "(15, 2171)"
      ]
     },
     "execution_count": 50,
     "metadata": {},
     "output_type": "execute_result"
    },
    {
     "data": {
      "image/png": "[encoded data removed]",
      "text/plain": [
       "<Figure size 432x288 with 1 Axes>"
      ]
     },
     "metadata": {},
     "output_type": "display_data"
    }
   ],
   "source": [
    "plt.figure()\n",
    "plt.plot(normalized_inputs[testIndexes,1])\n",
    "\n",
    "\n",
    "inputMatrix.shape"
   ]
  },
  {
   "cell_type": "code",
   "execution_count": 40,
   "metadata": {},
   "outputs": [
    {
     "name": "stdout",
     "output_type": "stream",
     "text": [
      "Neural Network Model - train 1 initialization\n",
      "min loss: 9999.00000, model loss: 0.69649\n",
      "Neural Network Model - train 2 initialization\n",
      "min loss: 0.69649, model loss: 0.69403\n",
      "Neural Network Model - train 3 initialization\n",
      "Neural Network Model - train 4 initialization\n",
      "Neural Network Model - train 1 initialization\n",
      "min loss: 9999.00000, model loss: 0.72528\n",
      "Neural Network Model - train 2 initialization\n",
      "min loss: 0.72528, model loss: 0.72407\n",
      "Neural Network Model - train 3 initialization\n",
      "min loss: 0.72407, model loss: 0.72012\n",
      "Neural Network Model - train 4 initialization\n"
     ]
    }
   ],
   "source": [
    "import numpy as np\n",
    "from sklearn import datasets\n",
    "from sklearn.model_selection import StratifiedKFold\n",
    "from sklearn import preprocessing\n",
    "from sklearn.externals import joblib\n",
    "\n",
    "import os\n",
    "\n",
    "from Functions import models\n",
    "\n",
    "iris = datasets.load_iris()\n",
    "\n",
    "inputs = iris.data  \n",
    "outputs = iris.target\n",
    "\n",
    "#print inputs.shape\n",
    "#print outputs.shape\n",
    "\n",
    "\n",
    "n_folds = 2\n",
    "\n",
    "folds_filename =  '../Results/StratifiedKFolds_%i_folds.jbl'%(n_folds)\n",
    "\n",
    "if not os.path.isfile(folds_filename):\n",
    "    skf = StratifiedKFold(n_splits=n_folds)\n",
    "    skf.get_n_splits(inputs, outputs)\n",
    "    joblib.dump(skf, folds_filename)\n",
    "else:\n",
    "    skf = joblib.load(folds_filename)\n",
    "\n",
    "cat_outputs = -np.ones([outputs.shape[0],len(np.unique(outputs))])\n",
    "for i,j in enumerate(outputs):\n",
    "    cat_outputs[i,j] = 1\n",
    "\n",
    "nn_models = {}\n",
    "\n",
    "nn_params = models.NeuralNetworkParams(learning_rate=0.1,n_epochs=200,batch_size=16,verbose=True, n_inits=4)\n",
    "\n",
    "n_neurons = 9\n",
    "\n",
    "for ifold, [train_index, test_index] in enumerate(skf.split(inputs, outputs)):\n",
    "    #if ifold > 0:        \n",
    "    #    continue\n",
    "    #normalize data\n",
    "    scaler = preprocessing.StandardScaler().fit(inputs[train_index,:])\n",
    "    normalized_inputs = scaler.transform(inputs)\n",
    "    \n",
    "    nn_models[ifold] = models.NeuralNetworkModel()\n",
    "    nn_models[ifold].loss = 'categorical_crossentropy'\n",
    "    nn_models[ifold].optimizer = 'sgd'\n",
    "    \n",
    "    nn_models[ifold].fit(inputs=normalized_inputs, \n",
    "                         outputs=cat_outputs,\n",
    "                         train_indexes=[train_index, test_index],\n",
    "                         n_neurons=n_neurons, trn_params=nn_params, \n",
    "                         activation_functions=['relu', 'softmax'])\n",
    "    nn_models[ifold].save('%s_%i_neurons_%i_fold'%(nn_models[ifold].get_str(), \n",
    "                                                   n_neurons,ifold),\n",
    "                          '../Results/NeuralNetwork')"
   ]
  },
  {
   "cell_type": "code",
   "execution_count": 41,
   "metadata": {},
   "outputs": [],
   "source": [
    "import os\n",
    "import numpy as np\n",
    "from Functions import models\n",
    "\n",
    "from sklearn import datasets\n",
    "from sklearn.model_selection import StratifiedKFold\n",
    "from sklearn import preprocessing\n",
    "from sklearn.externals import joblib\n",
    "\n",
    "iris = datasets.load_iris()\n",
    "\n",
    "inputs = iris.data  \n",
    "outputs = iris.target\n",
    "cat_outputs = -np.ones([outputs.shape[0],len(np.unique(outputs))])\n",
    "\n",
    "nn_params = models.NeuralNetworkParams(learning_rate=0.01,n_epochs=200,batch_size=16,verbose=True, n_inits=4)\n",
    "n_neurons = 9\n",
    "\n",
    "n_folds = 2\n",
    "folds_filename =  '../Results/StratifiedKFolds_%i_folds.jbl'%(n_folds)\n",
    "\n",
    "if os.path.isfile(folds_filename):\n",
    "    skf = joblib.load(folds_filename)\n",
    "    for i,j in enumerate(outputs):\n",
    "        cat_outputs[i,j] = 1\n",
    "    cat_outputs = -np.ones([outputs.shape[0],len(np.unique(outputs))])\n",
    "\n",
    "    nn_test_models = {}\n",
    "    for ifold, [train_index, test_index] in enumerate(skf.split(inputs, outputs)):\n",
    "        scaler = preprocessing.StandardScaler().fit(inputs[train_index,:])\n",
    "        normalized_inputs = scaler.transform(inputs)\n",
    "        \n",
    "        nn_test_models[ifold] = models.NeuralNetworkModel()\n",
    "        nn_test_models[ifold].loss = 'categorical_crossentropy'\n",
    "        nn_test_models[ifold].optimizer = 'sgd'\n",
    "    \n",
    "        nn_test_models[ifold].load('%s_%i_neurons_%i_fold'%(nn_models[ifold].get_str(),n_neurons,ifold),'../Results/NeuralNetwork')\n",
    "else:\n",
    "    print \"No trained model\""
   ]
  },
  {
   "cell_type": "code",
   "execution_count": 33,
   "metadata": {},
   "outputs": [
    {
     "data": {
      "text/plain": [
       "<Figure size 720x360 with 0 Axes>"
      ]
     },
     "metadata": {},
     "output_type": "display_data"
    }
   ],
   "source": [
    "import matplotlib.pyplot as plt\n",
    "%matplotlib inline\n",
    "plt.style.use('dark_background')\n",
    "n_folds = len(nn_models)-1\n",
    "nn_test_models = nn_models\n",
    "fig = plt.figure(figsize=(10,5))\n",
    "nrows = 2\n",
    "ncols = 2\n",
    "for ifold in range(n_folds):\n",
    "    ax = plt.subplot(nrows,ncols,ifold+1)\n",
    "    epochs = range(len(nn_models[ifold].trn_desc['acc']))\n",
    "    ax.plot(epochs,nn_models[ifold].trn_desc['loss'],'b')\n",
    "    ax.plot(epochs,nn_models[ifold].trn_desc['val_loss'],'g')"
   ]
  },
  {
   "cell_type": "code",
   "execution_count": 40,
   "metadata": {},
   "outputs": [
    {
     "ename": "TypeError",
     "evalue": "'NoneType' object is not subscriptable",
     "output_type": "error",
     "traceback": [
      "\u001b[1;31m---------------------------------------------------------------------------\u001b[0m",
      "\u001b[1;31mTypeError\u001b[0m                                 Traceback (most recent call last)",
      "\u001b[1;32m<ipython-input-40-22510ee0a4ea>\u001b[0m in \u001b[0;36m<module>\u001b[1;34m()\u001b[0m\n\u001b[0;32m      1\u001b[0m \u001b[1;31m#nnOutputTest = np.argmax(nn_models[0].predict(inputLSTM[testIndexes]),axis=1)\u001b[0m\u001b[1;33m\u001b[0m\u001b[1;33m\u001b[0m\u001b[0m\n\u001b[0;32m      2\u001b[0m \u001b[1;31m#nnOutputTest\u001b[0m\u001b[1;33m\u001b[0m\u001b[1;33m\u001b[0m\u001b[0m\n\u001b[1;32m----> 3\u001b[1;33m \u001b[0mnn_models\u001b[0m\u001b[1;33m[\u001b[0m\u001b[1;36m0\u001b[0m\u001b[1;33m]\u001b[0m\u001b[1;33m.\u001b[0m\u001b[0mtrn_desc\u001b[0m\u001b[1;33m[\u001b[0m\u001b[1;34m'acc'\u001b[0m\u001b[1;33m]\u001b[0m\u001b[1;33m\u001b[0m\u001b[0m\n\u001b[0m",
      "\u001b[1;31mTypeError\u001b[0m: 'NoneType' object is not subscriptable"
     ]
    }
   ],
   "source": [
    "nnOutputTest = np.argmax(nn_models[0].predict(inputLSTM[testIndexes]),axis=1)\n",
    "nnOutputTest\n",
    "nn_models[0].trn_desc['acc']"
   ]
  },
  {
   "cell_type": "code",
   "execution_count": 4,
   "metadata": {},
   "outputs": [
    {
     "data": {
      "text/plain": [
       "array([0, 0, 0, 0, 0, 0, 0, 0, 1, 1, 1, 1, 1, 1, 1, 1, 1, 1, 1, 1, 1, 2,\n",
       "       2, 2, 2, 2, 2, 2, 2, 2, 2, 2, 2, 2, 2], dtype=int64)"
      ]
     },
     "execution_count": 4,
     "metadata": {},
     "output_type": "execute_result"
    }
   ],
   "source": [
    "nnOutputTest = np.argmax(nn_models[0].predict(inputLSTM[testIndexes]),axis=1)\n",
    "\n",
    "classTestOutput = np.argmax(auxFunc.catToSparse(targetLSTM[testIndexes]),axis=1)\n",
    "classTestOutput"
   ]
  },
  {
   "cell_type": "code",
   "execution_count": 5,
   "metadata": {},
   "outputs": [
    {
     "name": "stdout",
     "output_type": "stream",
     "text": [
      "[[0.875      0.125      0.        ]\n",
      " [0.07692308 0.92307692 0.        ]\n",
      " [0.         0.         1.        ]]\n"
     ]
    }
   ],
   "source": [
    "from sklearn.metrics import confusion_matrix\n",
    "\n",
    "cm = confusion_matrix(classTestOutput, nnOutputTest)\n",
    "cm = cm.astype('float') / cm.sum(axis=1)[:, np.newaxis]\n",
    "print(cm)"
   ]
  },
  {
   "cell_type": "code",
   "execution_count": 2,
   "metadata": {},
   "outputs": [],
   "source": [
    "from sklearn.model_selection import train_test_split as tts\n",
    "from sklearn.metrics import confusion_matrix\n",
    "from sklearn import preprocessing\n",
    "import numpy as np\n",
    "from Functions import models\n",
    "\n",
    "def catToSparse(target):\n",
    "    cat_outputs = -np.ones([target.shape[0],len(np.unique(target))])\n",
    "    for i,j in enumerate(target):\n",
    "        cat_outputs[i,int(j)] = 1\n",
    "    return cat_outputs\n",
    "\n",
    "class tteOutput:\n",
    "    def __init__(self):\n",
    "        self.cost =[]\n",
    "        self.cm = np.zeros((1000,2,2))\n",
    "        self.minCost = 99999;\n",
    "        self.time = []\n",
    "\n",
    "\n",
    "def TTE(data, timestep, typeStr, modelConstructor):\n",
    "    target = np.ones((data.shape[0] if data.shape[0]>data.shape[1] else data.shape[1],1))\n",
    "    trPerc = 0.6\n",
    "    testPerc = 0.4\n",
    "    output = tteOutput();\n",
    "    output.minCost = 999999;\n",
    "    index = 0;\n",
    "    \n",
    "    if typeStr == 'moving':\n",
    "        windowLength = 100\n",
    "        leftLength = int(windowLength/2)\n",
    "        rightLength = leftLength\n",
    "        minTime = int(windowLength/2)\n",
    "        maxTime = data.shape[0] - minTime\n",
    "        tList = list(range(minTime, maxTime, timestep))\n",
    "        leftLength = np.array([leftLength]*len(tList))\n",
    "        rightLength = np.array([rightLength]*len(tList))\n",
    "\n",
    "    if typeStr == 'fixed':\n",
    "        windowLength = data.shape[0]\n",
    "        minTime = 20\n",
    "        maxTime = data.shape[0] - minTime\n",
    "        tList = list(range(minTime, maxTime, timestep))\n",
    "        leftLength = np.array(tList)\n",
    "        rightLength = data.shape[0] - leftLength\n",
    "        \n",
    "    if typeStr == 'other':\n",
    "        minTime = 20\n",
    "        maxTime = data.shape[0] - minTime\n",
    "        leftLength = []\n",
    "        rightLength = []\n",
    "        tList = list(range(minTime, maxTime, timestep))\n",
    "        \n",
    "        for t in tList:\n",
    "            if t <= data.shape[0]/2:\n",
    "                leftLength.append(t)\n",
    "                rightLength.append(t)\n",
    "            else:\n",
    "                rightLength.append(data.shape[0]-t)\n",
    "                leftLength.append(data.shape[0]-t)\n",
    "            \n",
    "    for t in tList:\n",
    "        \n",
    "        inputs = data[int(t-leftLength[index]):int(rightLength[index]+t),:]\n",
    "        target[0:t] = 0;\n",
    "        sparseTargets = catToSparse(target[int(t-leftLength[index]):int(rightLength[index]+t),:])\n",
    "        \n",
    "        inputTrain, inputTest, targetTrain, targetTest = \\\n",
    "        tts(inputs,sparseTargets,test_size=testPerc)\n",
    "\n",
    "        scaler = preprocessing.StandardScaler().fit(inputTrain)\n",
    "        inputTrain = scaler.transform(inputTrain)\n",
    "        nn_params = models.NeuralNetworkParams(learning_rate=0.1,n_epochs=200,batch_size=16,verbose=True, n_inits=4)\n",
    "\n",
    "        model = modelConstructor()\n",
    "        model.params=nn_params;\n",
    "        model.loss = 'categorical_crossentropy'\n",
    "        model.optimizer = 'sgd'\n",
    "        model.fit(inputTrain,targetTrain,[inputTest,targetTest])\n",
    "        output.cost.append(np.min(model.trn_desc['val_loss']))\n",
    "        outTarget = np.argmax(model.predict(inputTest),axis=1)\n",
    "        output.cm[index, :,:] = confusion_matrix(np.argmax(targetTest,axis=1), outTarget)\n",
    "        output.time.append(t);\n",
    "\n",
    "        if output.cost[index] < output.minCost:\n",
    "            output.minCost = output.cost[index]\n",
    "        print(index)\n",
    "        index = index+1;\n",
    "        \n",
    "    return output\n",
    "\n"
   ]
  },
  {
   "cell_type": "code",
   "execution_count": null,
   "metadata": {},
   "outputs": [],
   "source": [
    "from sklearn.model_selection import train_test_split as tts\n",
    "from sklearn.metrics import confusion_matrix\n",
    "from sklearn import preprocessing\n",
    "import numpy as np\n",
    "from Functions import models\n",
    "\n",
    "class tteOutput:\n",
    "    def __init__(self):\n",
    "        self.cost =[]\n",
    "        self.cm = np.zeros((1000,2,2))\n",
    "        self.minCost = 99999;\n",
    "\n",
    "\n",
    "def TTE(data, timestep, typeStr, modelConstructor):\n",
    "    target = np.ones((data.shape[0] if data.shape[0]>data.shape[1] else data.shape[1],1))\n",
    "    trPerc = 0.6\n",
    "    testPerc = 0.4\n",
    "    output = tteOutput();\n",
    "    output.minCost = 999999;\n",
    "    \n",
    "    if typeStr=='hard':\n",
    "        S = 100\n",
    "        target = target[0:S]\n",
    "        target[0:(int(target.shape[0]/2))] = 0;\n",
    "\n",
    "        cat_outputs = -np.ones([target.shape[0],len(np.unique(target))])\n",
    "        for i,j in enumerate(target):\n",
    "            cat_outputs[i,int(j)] = 1\n",
    "        target = cat_outputs;\n",
    "        output.cost = []\n",
    "        output.cm = np.zeros((1000,2,2))\n",
    "        index = 0;\n",
    "        for t in range(int(S/2),data.shape[0]-int(S/2)+1,timestep):\n",
    "            inputs = data[int(t-S/2):int(S/2+t),:]\n",
    "            inputTrain, inputTest, targetTrain, targetTest = \\\n",
    "            tts(inputs,target,test_size=testPerc)\n",
    "\n",
    "            scaler = preprocessing.StandardScaler().fit(inputTrain)\n",
    "            inputTrain = scaler.transform(inputTrain)\n",
    "\n",
    "            nn_params = models.NeuralNetworkParams(learning_rate=0.1,n_epochs=200,batch_size=16,verbose=True, n_inits=4)\n",
    "\n",
    "            model = modelConstructor()\n",
    "            model.params=nn_params;\n",
    "            model.loss = 'categorical_crossentropy'\n",
    "            model.optimizer = 'sgd'\n",
    "            model.fit(inputTrain,targetTrain,[inputTest,targetTest])\n",
    "            output.cost.append(np.min(model.trn_desc['val_loss']))\n",
    "            outTarget = np.argmax(model.predict(inputTest),axis=1)\n",
    "            output.cm[int(t-S/2), :,:] = confusion_matrix(np.argmax(targetTest,axis=1), outTarget)\n",
    "\n",
    "            if output.cost[index] < output.minCost:\n",
    "                output.minCost = output.cost[index]\n",
    "            index = index+1;\n",
    "            print(index)\n",
    "    #elif typeStr =='soft':\n",
    "    elif typeStr =='moving':\n",
    "        MIN = 20\n",
    "        inputs = data\n",
    "        index = 0\n",
    "        for t in range(MIN, data.shape[0]-MIN,timestep):\n",
    "            target = np.ones((data.shape[0] if data.shape[0]>data.shape[1] else data.shape[1],1))\n",
    "            target[0:t,:] = 0;\n",
    "            cat_outputs = -np.ones([target.shape[0],len(np.unique(target))])\n",
    "            for i,j in enumerate(target):\n",
    "                cat_outputs[i,int(j)] = 1\n",
    "            target = cat_outputs;\n",
    "            inputTrain, inputTest, targetTrain, targetTest = \\\n",
    "            tts(inputs,target,test_size=testPerc)\n",
    "\n",
    "            scaler = preprocessing.StandardScaler().fit(inputTrain)\n",
    "            inputTrain = scaler.transform(inputTrain)\n",
    "\n",
    "            nn_params = models.NeuralNetworkParams(learning_rate=0.1,n_epochs=200,batch_size=16,verbose=True, n_inits=2)\n",
    "\n",
    "            model = modelConstructor()\n",
    "            model.params=nn_params;\n",
    "            model.loss = 'categorical_crossentropy'\n",
    "            model.optimizer = 'sgd'\n",
    "            model.fit(inputTrain,targetTrain,[inputTest,targetTest])\n",
    "            output.cost.append(np.min(model.trn_desc['val_loss']))\n",
    "            outTarget = np.argmax(model.predict(inputTest),axis=1)\n",
    "            output.cm[t, :,:] = confusion_matrix(np.argmax(targetTest,axis=1), outTarget)\n",
    "\n",
    "            if output.cost[index] < output.minCost:\n",
    "                output.minCost = output.cost[index]\n",
    "            index = index+1;\n",
    "            print(index)\n",
    "    return output\n",
    "\n"
   ]
  },
  {
   "cell_type": "code",
   "execution_count": 3,
   "metadata": {},
   "outputs": [
    {
     "name": "stdout",
     "output_type": "stream",
     "text": [
      "0\n",
      "1\n",
      "2\n",
      "3\n",
      "4\n",
      "5\n",
      "6\n",
      "7\n",
      "8\n",
      "9\n",
      "10\n",
      "11\n",
      "12\n",
      "13\n",
      "14\n",
      "15\n",
      "16\n",
      "17\n",
      "18\n",
      "19\n"
     ]
    }
   ],
   "source": [
    "import numpy as np\n",
    "from Functions import models\n",
    "N = 1000; P = 1;\n",
    "data = np.zeros((N,P))\n",
    "data[0:int(N/2),:] = 1*np.random.randn(int(N/2),P)+0\n",
    "data[int(N/2):,:] = 1*np.random.randn(int(N/2),P)+2\n",
    "\n",
    "nn_params = models.NeuralNetworkParams(learning_rate=0.1,n_epochs=200,batch_size=16,verbose=True, n_inits=4)\n",
    "\n",
    "n_neurons = 9\n",
    "\n",
    "\n",
    "nnmodel = models.NeuralNetworkModel()\n",
    "nnmodel.loss = 'categorical_crossentropy'\n",
    "nnmodel.optimizer = 'sgd'\n",
    "\n",
    "output = TTE(data, 50, 'other', models.NeuralNetworkModel)"
   ]
  },
  {
   "cell_type": "code",
   "execution_count": 34,
   "metadata": {},
   "outputs": [
    {
     "data": {
      "image/png": "[encoded data removed]",
      "text/plain": [
       "<Figure size 432x288 with 1 Axes>"
      ]
     },
     "metadata": {},
     "output_type": "display_data"
    },
    {
     "data": {
      "text/plain": [
       "array([  0,   1,   2,   3,   4,   5,   6,   7,   8,   9,  10,  11,  12,\n",
       "        13,  14,  15,  16,  17,  18,  19,  20,  21,  22,  23,  24,  25,\n",
       "        26,  27,  28,  29,  30,  31,  32,  48,  49,  50,  51,  52,  53,\n",
       "        54,  55,  56,  57,  58,  59,  60,  61,  62,  63,  64,  65,  66,\n",
       "        67,  68,  69,  70,  71,  72,  73,  74,  75,  76,  77,  78,  79,\n",
       "        80,  81,  82,  83,  84,  85,  86,  87,  88,  89,  90,  91,  92,\n",
       "        93,  94,  95,  96,  97,  98,  99, 100, 101, 102, 103, 128, 129,\n",
       "       130, 131, 132, 133, 134, 135, 136, 137, 138, 139, 140, 141, 142,\n",
       "       143, 144, 145, 146, 147, 148, 149, 150, 151, 152, 153, 154, 155,\n",
       "       156, 157, 158, 159, 160, 161, 162, 163, 164, 165, 166, 167, 168,\n",
       "       169, 170, 171, 172, 173, 174, 175, 176, 177, 178, 179, 180, 181,\n",
       "       182, 183, 184, 185, 186, 187, 188], dtype=int64)"
      ]
     },
     "execution_count": 34,
     "metadata": {},
     "output_type": "execute_result"
    }
   ],
   "source": [
    "import matplotlib.pyplot as plt\n",
    "plt.style.use('dark_background')\n",
    "\n",
    "plt.figure()\n",
    "plt.plot(trainIndexes,'.')\n",
    "plt.show()\n",
    "trainIndexes"
   ]
  },
  {
   "cell_type": "code",
   "execution_count": 5,
   "metadata": {},
   "outputs": [
    {
     "data": {
      "image/png": "[encoded data removed]",
      "text/plain": [
       "<Figure size 432x288 with 1 Axes>"
      ]
     },
     "metadata": {},
     "output_type": "display_data"
    }
   ],
   "source": [
    "import matplotlib.pyplot as plt\n",
    "plt.style.use('dark_background')\n",
    "\n",
    "plt.figure()\n",
    "plt.plot(output.cost)\n",
    "plt.show()"
   ]
  }
 ],
 "metadata": {
  "kernelspec": {
   "display_name": "Python 3",
   "language": "python",
   "name": "python3"
  },
  "language_info": {
   "codemirror_mode": {
    "name": "ipython",
    "version": 3
   },
   "file_extension": ".py",
   "mimetype": "text/x-python",
   "name": "python",
   "nbconvert_exporter": "python",
   "pygments_lexer": "ipython3",
   "version": "3.6.6"
  }
 },
 "nbformat": 4,
 "nbformat_minor": 2
}
